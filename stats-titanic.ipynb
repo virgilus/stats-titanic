{
 "cells": [
  {
   "cell_type": "markdown",
   "id": "10752243-7ce2-490b-b5ef-ec32bb7caae1",
   "metadata": {},
   "source": [
    "# Statistiques sur le dataset du titanic"
   ]
  },
  {
   "cell_type": "code",
   "execution_count": null,
   "id": "3484dcbe-268a-4138-ab21-a977c59320ac",
   "metadata": {
    "tags": []
   },
   "outputs": [],
   "source": [
    "# Importation des librairies\n",
    "import pandas as pd\n",
    "import numpy as np\n",
    "import matplotlib as plt\n",
    "import seaborn as sns"
   ]
  },
  {
   "cell_type": "code",
   "execution_count": null,
   "id": "b5355992-cdfa-4be5-82ce-f777b742cc96",
   "metadata": {
    "tags": []
   },
   "outputs": [],
   "source": [
    "# Chargement du fichier\n",
    "df = pd.read_csv('titanic.csv')"
   ]
  },
  {
   "cell_type": "code",
   "execution_count": null,
   "id": "e401d81f-b08b-4e70-b834-715257456b31",
   "metadata": {
    "tags": []
   },
   "outputs": [],
   "source": [
    "df.head()"
   ]
  },
  {
   "cell_type": "markdown",
   "id": "ba08b430-e600-4af8-86ff-3d5c8d75962c",
   "metadata": {},
   "source": [
    "## Exercice\n",
    "\n",
    "Combien y a-t-il de lignes dans le jeu de données ? Et combien de colonnes?"
   ]
  },
  {
   "cell_type": "code",
   "execution_count": null,
   "id": "cbbee569-709d-435c-b5be-71bb00d33934",
   "metadata": {},
   "outputs": [],
   "source": [
    "# Code here!\n"
   ]
  },
  {
   "cell_type": "markdown",
   "id": "62e83b95-5082-4402-9030-e0c8affce161",
   "metadata": {},
   "source": [
    "## Exercice\n",
    "\n",
    "Dans ce jeu de données, combien de personnes ont survécu au naufrage du titanic ? Combien sont décédées ?"
   ]
  },
  {
   "cell_type": "code",
   "execution_count": null,
   "id": "ab37f350-2b2b-459e-afb5-d32a98c10bf6",
   "metadata": {},
   "outputs": [],
   "source": [
    "# Code here!\n"
   ]
  },
  {
   "cell_type": "markdown",
   "id": "d2091f8f-3cd1-4d1c-bc06-5f9e5cf328cb",
   "metadata": {},
   "source": [
    "## Exercice\n",
    "\n",
    "Générez un graphique pour représenter les résultats de l'exercice précédent."
   ]
  },
  {
   "cell_type": "code",
   "execution_count": null,
   "id": "a6b6bd35-b06c-4830-bb92-1f08306919f4",
   "metadata": {},
   "outputs": [],
   "source": [
    "# Code here!\n"
   ]
  },
  {
   "cell_type": "markdown",
   "id": "d809bd02-21dc-4844-baf8-891105a7064a",
   "metadata": {},
   "source": [
    "## Exercice\n",
    "\n",
    "Quelle est la personne la plus âgée ? Quelle est la personne la plus jeune ?"
   ]
  },
  {
   "cell_type": "code",
   "execution_count": null,
   "id": "665680f0-1fa1-4578-8d22-9d612660a5c5",
   "metadata": {},
   "outputs": [],
   "source": [
    "# Code here!\n"
   ]
  },
  {
   "cell_type": "code",
   "execution_count": null,
   "id": "1d1b2836-934e-4d27-9060-dda736e119ac",
   "metadata": {},
   "outputs": [],
   "source": [
    "# Code here!\n"
   ]
  },
  {
   "cell_type": "markdown",
   "id": "1e16895d-54d2-450d-98d6-55e21bf16c8b",
   "metadata": {},
   "source": [
    "## Exercice\n",
    "\n",
    "Quelle est la moyenne d'âge ? Quel est l'âge médian ?"
   ]
  },
  {
   "cell_type": "code",
   "execution_count": null,
   "id": "4eba915f-529b-431b-b7a1-cb12ba8b71ab",
   "metadata": {},
   "outputs": [],
   "source": [
    "# Code here!\n"
   ]
  },
  {
   "cell_type": "code",
   "execution_count": null,
   "id": "255b8073-fed2-4287-9cd1-730b0cb5326e",
   "metadata": {},
   "outputs": [],
   "source": [
    "# Code here!\n"
   ]
  },
  {
   "cell_type": "markdown",
   "id": "117e6a44-0e31-4c0c-a81b-e970a26e9ac6",
   "metadata": {},
   "source": [
    "## Exercice\n",
    "\n",
    "Générez un graphique de type histogramme qui montre la répartition des âges."
   ]
  },
  {
   "cell_type": "code",
   "execution_count": null,
   "id": "61397ab1-8efd-4c3e-9749-f4de80775176",
   "metadata": {},
   "outputs": [],
   "source": [
    "# Code here!\n"
   ]
  },
  {
   "cell_type": "markdown",
   "id": "3000a038-747c-4573-b76d-676ccb4f48f0",
   "metadata": {},
   "source": [
    "## Exercice\n",
    "\n",
    "Affichez le nombre de personnes par classe (première classe, seconde classe et troisième classe)."
   ]
  },
  {
   "cell_type": "code",
   "execution_count": null,
   "id": "e56efabc-b4e4-483f-b862-ca6b95db849a",
   "metadata": {
    "tags": []
   },
   "outputs": [],
   "source": [
    "# Code here!\n"
   ]
  },
  {
   "cell_type": "markdown",
   "id": "fd109594-9883-4b34-a19e-cbf3c46a796c",
   "metadata": {},
   "source": [
    "## Exercice\n",
    "\n",
    "Affichez les données précédentes sur les classes sous forme de diagramme de type camembert. Faites apparaître les valeurs relatives (en pourcentage)."
   ]
  },
  {
   "cell_type": "code",
   "execution_count": null,
   "id": "e4a0f489-d6b9-4e88-9bab-17a613e43f1a",
   "metadata": {
    "tags": []
   },
   "outputs": [],
   "source": [
    "# Code here!\n"
   ]
  },
  {
   "cell_type": "markdown",
   "id": "49540258-0112-4832-a62c-584996b9b8e7",
   "metadata": {},
   "source": [
    "## Exercice\n",
    "\n",
    "Générez un tableau croisé entre les colonnes 'Survived' et 'Pclass'."
   ]
  },
  {
   "cell_type": "code",
   "execution_count": null,
   "id": "8008a05a-e5ab-45fd-bb52-8a74b569247c",
   "metadata": {},
   "outputs": [],
   "source": [
    "# Code here!\n"
   ]
  },
  {
   "cell_type": "markdown",
   "id": "6d6e14ce-ed81-4eaf-9c63-4b43d1613710",
   "metadata": {},
   "source": [
    "## Exercice\n",
    "\n",
    "À partir du tableau précédent, générez deux nouveaux tableaux. L'un avec les valeurs normalisées par ligne (index) et l'autre avec les valeurs normalisées par colonne. Vous pouvez les afficher en pourcentage en multipliant le résultat par 100."
   ]
  },
  {
   "cell_type": "code",
   "execution_count": null,
   "id": "a597d067-3875-46de-968f-3487565f74d4",
   "metadata": {},
   "outputs": [],
   "source": [
    "# Code here!\n"
   ]
  },
  {
   "cell_type": "code",
   "execution_count": null,
   "id": "17541d8e-9018-4835-8ab1-af297f38d0de",
   "metadata": {},
   "outputs": [],
   "source": [
    "# Code here!\n"
   ]
  },
  {
   "cell_type": "markdown",
   "id": "e3d91c8f-88d9-482c-ae46-29b6856805e5",
   "metadata": {},
   "source": [
    "## Exercice\n",
    "\n",
    "Affichez le prix moyen, médian, maximum et minimum du ticket ('Fare') pour chaque classe des passagers. L'utilisation d'un 'groupby' semble la meilleure option."
   ]
  },
  {
   "cell_type": "code",
   "execution_count": null,
   "id": "cd1845c5-10bd-41c5-b092-d64a4f2d6cd3",
   "metadata": {
    "tags": []
   },
   "outputs": [],
   "source": [
    "# Code here!\n"
   ]
  },
  {
   "cell_type": "markdown",
   "id": "3afafd57-012d-49d0-be22-2fddc21eb8de",
   "metadata": {},
   "source": [
    "# Modélisation"
   ]
  },
  {
   "cell_type": "code",
   "execution_count": null,
   "id": "50ac750b-6a8b-426f-813c-c340dee39905",
   "metadata": {
    "tags": []
   },
   "outputs": [],
   "source": [
    "cat_cols = ['Sex', 'Embarked']\n",
    "num_cols = ['Pclass', 'Age', 'SibSp', 'Parch', 'Fare']\n",
    "X = pd.concat([df[num_cols], pd.get_dummies(df[cat_cols])], axis=1)\n",
    "y = df['Survived']"
   ]
  },
  {
   "cell_type": "code",
   "execution_count": null,
   "id": "eb83716c-351c-4d7c-b6f3-5331da8d71ec",
   "metadata": {
    "tags": []
   },
   "outputs": [],
   "source": [
    "from sklearn.model_selection import train_test_split\n",
    "from sklearn.ensemble import RandomForestClassifier\n",
    "from sklearn.metrics import accuracy_score\n",
    "\n",
    "X_train, X_test, y_train, y_test = train_test_split(X, y, random_state=42)\n",
    "rf = RandomForestClassifier(random_state=42)\n",
    "rf.fit(X_train, y_train)\n",
    "y_pred = rf.predict(X_test)\n",
    "accuracy_score(y_test, y_pred)"
   ]
  },
  {
   "cell_type": "markdown",
   "id": "fc93304e-20b1-4cab-abb4-70ce923f88d4",
   "metadata": {},
   "source": [
    "## Prédiction pour une personne donnée"
   ]
  },
  {
   "cell_type": "code",
   "execution_count": null,
   "id": "a66d9507-84ef-4903-8a1c-a778060c2288",
   "metadata": {
    "tags": []
   },
   "outputs": [],
   "source": [
    "person_1 = {'Pclass': 1,\n",
    "          'Age': 22.0,\n",
    "          'SibSp': 1,\n",
    "          'Parch': 0,\n",
    "          'Fare': 7.25,\n",
    "          'Sex_female': True,\n",
    "          'Sex_male': False,\n",
    "          'Embarked_C': False,\n",
    "          'Embarked_Q': False,\n",
    "          'Embarked_S': True}"
   ]
  },
  {
   "cell_type": "code",
   "execution_count": null,
   "id": "18239cbf-6e62-4a52-aa18-20a2f2c51750",
   "metadata": {
    "tags": []
   },
   "outputs": [],
   "source": [
    "rf.predict(pd.DataFrame([person_1]))[0]"
   ]
  },
  {
   "cell_type": "code",
   "execution_count": null,
   "id": "db0ddfed-de65-4087-aa35-96072b738432",
   "metadata": {
    "tags": []
   },
   "outputs": [],
   "source": [
    "person_2 = {'Pclass': 3,\n",
    "          'Age': 22.0,\n",
    "          'SibSp': 1,\n",
    "          'Parch': 0,\n",
    "          'Fare': 7.25,\n",
    "          'Sex_female': False,\n",
    "          'Sex_male': True,\n",
    "          'Embarked_C': False,\n",
    "          'Embarked_Q': False,\n",
    "          'Embarked_S': True}"
   ]
  },
  {
   "cell_type": "code",
   "execution_count": null,
   "id": "33087fdf-acce-4c2c-8dee-5bac613f756e",
   "metadata": {
    "tags": []
   },
   "outputs": [],
   "source": [
    "rf.predict(pd.DataFrame([person_2]))[0]"
   ]
  },
  {
   "cell_type": "markdown",
   "id": "da21c821-2f98-4e61-8932-1d1316309699",
   "metadata": {},
   "source": [
    "## Exercice\n",
    "\n",
    "Faites une prédiction pour une personne avec les paramètres de votre choix"
   ]
  },
  {
   "cell_type": "code",
   "execution_count": null,
   "id": "065b86ee-bb7c-4fb3-a34c-1601b91ef751",
   "metadata": {
    "tags": []
   },
   "outputs": [],
   "source": [
    "# Code here!\n"
   ]
  }
 ],
 "metadata": {
  "kernelspec": {
   "display_name": "Python 3 (ipykernel)",
   "language": "python",
   "name": "python3"
  },
  "language_info": {
   "codemirror_mode": {
    "name": "ipython",
    "version": 3
   },
   "file_extension": ".py",
   "mimetype": "text/x-python",
   "name": "python",
   "nbconvert_exporter": "python",
   "pygments_lexer": "ipython3",
   "version": "3.11.0"
  }
 },
 "nbformat": 4,
 "nbformat_minor": 5
}
