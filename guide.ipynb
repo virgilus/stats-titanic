{
 "cells": [
  {
   "cell_type": "code",
   "execution_count": null,
   "id": "92e97179-d63d-4db1-9e4f-2d653028ae42",
   "metadata": {
    "tags": []
   },
   "outputs": [],
   "source": [
    "import pandas as pd\n",
    "df = pd.read_csv('fake.csv')"
   ]
  },
  {
   "cell_type": "code",
   "execution_count": null,
   "id": "dbf8903b-518b-4a93-943d-31bd919cd2f4",
   "metadata": {
    "tags": []
   },
   "outputs": [],
   "source": [
    "# Pour afficher les 5 premières lignes du dataframe\n",
    "df.head()"
   ]
  },
  {
   "cell_type": "code",
   "execution_count": null,
   "id": "f729d17f-0ce5-410a-b3f6-88fe84315d33",
   "metadata": {
    "tags": []
   },
   "outputs": [],
   "source": [
    "# Afficher les deux dimensions du dataframe\n",
    "df.shape"
   ]
  },
  {
   "cell_type": "code",
   "execution_count": null,
   "id": "e3bf5162-6a22-4864-ba89-f1113bfe85ab",
   "metadata": {
    "tags": []
   },
   "outputs": [],
   "source": [
    "# Afficher le nombre de lignes\n",
    "df.shape[0]"
   ]
  },
  {
   "cell_type": "code",
   "execution_count": null,
   "id": "5e7e93ed-485b-42d3-acf4-6ae082b47b1c",
   "metadata": {
    "tags": []
   },
   "outputs": [],
   "source": [
    "# Afficher le nombre de colonnes\n",
    "df.shape[1]"
   ]
  },
  {
   "cell_type": "code",
   "execution_count": null,
   "id": "8f8248bc-d81e-4f17-8366-d6c0d8d516d0",
   "metadata": {
    "tags": []
   },
   "outputs": [],
   "source": [
    "# Afficher une Series (colonne)\n",
    "df['value']"
   ]
  },
  {
   "cell_type": "code",
   "execution_count": null,
   "id": "7b913334-86ca-4ad2-b975-64f4f5e523f8",
   "metadata": {
    "tags": []
   },
   "outputs": [],
   "source": [
    "# Effectuer des opérations sur une Series (colonne)\n",
    "# Notez que le DataFrame (le tableau) ne sera pas modifié.\n",
    "df['value'] * 10_000"
   ]
  },
  {
   "cell_type": "code",
   "execution_count": null,
   "id": "ed9af389-6029-4c1d-be52-8c13d91c87e9",
   "metadata": {
    "tags": []
   },
   "outputs": [],
   "source": [
    "# Afficher la somme d'une colonne\n",
    "df['value'].sum()"
   ]
  },
  {
   "cell_type": "code",
   "execution_count": null,
   "id": "6e0d4961-4120-45fb-9269-35ac87a8f4cd",
   "metadata": {
    "tags": []
   },
   "outputs": [],
   "source": [
    "# Afficher la moyenne\n",
    "df['value'].mean()"
   ]
  },
  {
   "cell_type": "code",
   "execution_count": null,
   "id": "b174111f-7463-40c5-93e2-010a53ddd1b1",
   "metadata": {
    "tags": []
   },
   "outputs": [],
   "source": [
    "# Afficher la valeur minimale d'une colonne\n",
    "df['value'].min()"
   ]
  },
  {
   "cell_type": "code",
   "execution_count": null,
   "id": "fe641fae-4b82-4eb2-a4c8-40fcc8b2418a",
   "metadata": {
    "tags": []
   },
   "outputs": [],
   "source": [
    "# Afficher la valeur maximale\n",
    "df['value'].max()"
   ]
  },
  {
   "cell_type": "code",
   "execution_count": null,
   "id": "533aeceb-3342-4419-a46d-a674b08f2e82",
   "metadata": {
    "tags": []
   },
   "outputs": [],
   "source": [
    "# Effectuer des calculs\n",
    "df['value'].max() - df['value'].min()"
   ]
  },
  {
   "cell_type": "code",
   "execution_count": null,
   "id": "c9b7b93d-11ad-4159-8cb1-e960ccaca699",
   "metadata": {
    "tags": []
   },
   "outputs": [],
   "source": [
    "# Afficher un graphique pour une colonne donnée\n",
    "df['value'].plot()"
   ]
  },
  {
   "cell_type": "code",
   "execution_count": null,
   "id": "957e8d95-4d30-43ba-875a-44e494201af3",
   "metadata": {
    "tags": []
   },
   "outputs": [],
   "source": [
    "# Afficher différents types de graphiques\n",
    "df['value'].plot(kind='bar')"
   ]
  },
  {
   "cell_type": "code",
   "execution_count": null,
   "id": "171f1f8f-bc75-45be-8efd-c9c06e9440cf",
   "metadata": {
    "tags": []
   },
   "outputs": [],
   "source": [
    "df['value'].plot(kind='hist')"
   ]
  },
  {
   "cell_type": "code",
   "execution_count": null,
   "id": "5cb160cc-9a5d-4947-aa2a-f78ad0d55964",
   "metadata": {
    "tags": []
   },
   "outputs": [],
   "source": [
    "# Afficher la colonne 'letter'\n",
    "df['letter']"
   ]
  },
  {
   "cell_type": "code",
   "execution_count": null,
   "id": "c865625f-3dfe-44a3-b3bb-18eb0693600f",
   "metadata": {
    "tags": []
   },
   "outputs": [],
   "source": [
    "# Afficher un compte de valeurs\n",
    "df['letter'].value_counts()"
   ]
  },
  {
   "cell_type": "code",
   "execution_count": null,
   "id": "ba0cb5fa-035d-415e-84a5-5172208e3933",
   "metadata": {
    "tags": []
   },
   "outputs": [],
   "source": [
    "# Afficher un graphique à partir de données non numériques\n",
    "# En utilisant un valueucounts()\n",
    "df['letter'].value_counts().plot()"
   ]
  },
  {
   "cell_type": "code",
   "execution_count": null,
   "id": "9e60735d-a640-4126-a09b-29adaec1580e",
   "metadata": {
    "tags": []
   },
   "outputs": [],
   "source": [
    "# Afficher un tableau croisé\n",
    "pd.crosstab(df['letter'], df['fruit'])"
   ]
  },
  {
   "cell_type": "code",
   "execution_count": null,
   "id": "47000c77-5d54-4050-96c9-2d3f01b8c921",
   "metadata": {
    "tags": []
   },
   "outputs": [],
   "source": [
    "pd.crosstab(df['letter'], df['fruit'], normalize='index')"
   ]
  },
  {
   "cell_type": "code",
   "execution_count": null,
   "id": "6bda1b61-e1f8-455d-9143-c616c54652c2",
   "metadata": {
    "tags": []
   },
   "outputs": [],
   "source": [
    "pd.crosstab(df['letter'], df['fruit'], normalize='columns')"
   ]
  },
  {
   "cell_type": "code",
   "execution_count": null,
   "id": "e1343931-12a5-4df8-a751-af99f6b22f5b",
   "metadata": {
    "tags": []
   },
   "outputs": [],
   "source": [
    "# Effectuer des group by et des aggrégations\n",
    "df.groupby('letter').agg({'value' : ['mean', 'max']})"
   ]
  }
 ],
 "metadata": {
  "kernelspec": {
   "display_name": "Python 3 (ipykernel)",
   "language": "python",
   "name": "python3"
  },
  "language_info": {
   "codemirror_mode": {
    "name": "ipython",
    "version": 3
   },
   "file_extension": ".py",
   "mimetype": "text/x-python",
   "name": "python",
   "nbconvert_exporter": "python",
   "pygments_lexer": "ipython3",
   "version": "3.11.0"
  }
 },
 "nbformat": 4,
 "nbformat_minor": 5
}
